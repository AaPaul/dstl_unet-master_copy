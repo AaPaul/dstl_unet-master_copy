{
 "cells": [
  {
   "cell_type": "code",
   "execution_count": null,
   "metadata": {
    "collapsed": false,
    "deletable": true,
    "editable": true
   },
   "outputs": [],
   "source": [
    "hypes = './hypes/hypes.json'\n",
    "with open(hypes, 'r') as f:\n",
    "    H = simplejson.load(f)\n",
    "    H['batch_size'] = 1\n",
    "    H['pad'] = 100\n",
    "    H['x_width'] = 1920\n",
    "    H['x_height'] = 1920\n",
    "    H['print_iter'] = 100\n",
    "    H['save_iter'] = 500\n",
    "    H['crop_size'] = [1700, 1700]\n",
    "\n",
    "    print_iter = H['print_iter']\n",
    "    num_channel = H['num_channel']\n",
    "    x_width = H['x_width']\n",
    "    x_height = H['x_height']\n",
    "    batch_size = H['batch_size']\n",
    "    class_type = H['class_type']\n",
    "    pad = H['pad']\n",
    "    class_type = H['class_type']\n",
    "    log_dir = H['log_dir']\n",
    "    save_iter = H['save_iter']"
   ]
  },
  {
   "cell_type": "code",
   "execution_count": null,
   "metadata": {
    "collapsed": true,
    "deletable": true,
    "editable": true
   },
   "outputs": [],
   "source": [
    "import tensorflow as tf\n",
    "import simplejson\n",
    "import matplotlib.pyplot as plt\n",
    "%matplotlib inline\n",
    "import threading\n",
    "import tensorflow.contrib.slim as slim\n",
    "from utils import data_utils, train_utils\n",
    "import datetime\n",
    "import os\n",
    "import time\n",
    "import numpy as np\n",
    "import matplotlib.pyplot as plt\n",
    "import matplotlib\n",
    "import cv2\n",
    "import train\n",
    "import pandas as pd\n",
    "from shapely import wkt\n",
    "import time\n",
    "import sys\n",
    "from inference import pred_for_each_quarter, test_input, stitch_mask"
   ]
  },
  {
   "cell_type": "code",
   "execution_count": 3,
   "metadata": {
    "collapsed": true,
    "deletable": true,
    "editable": true
   },
   "outputs": [],
   "source": [
    "img_in = tf.placeholder(dtype=tf.float32, shape=[batch_size, x_width, x_height, 16])\n",
    "logits, pred = train.build_pred(img_in, H, 'test')"
   ]
  },
  {
   "cell_type": "code",
   "execution_count": null,
   "metadata": {
    "collapsed": false,
    "deletable": true,
    "editable": true
   },
   "outputs": [],
   "source": [
    "config = tf.ConfigProto()\n",
    "config.gpu_options.allow_growth = True\n",
    "saver = tf.train.Saver()\n",
    "sess = tf.Session(config = config)\n",
    "saver.restore(sess, save_path='log_dir/ckpt_new/ckpt-12000')"
   ]
  },
  {
   "cell_type": "code",
   "execution_count": null,
   "metadata": {
    "collapsed": false,
    "deletable": true,
    "editable": true
   },
   "outputs": [],
   "source": [
    "ids_with_instance = train_utils.generate_train_ids(class_type)\n",
    "print 'IDs of training data with instance of class {} ({}): {}'.format(\n",
    "    class_type, data_utils.CLASSES[class_type + 1], ids_with_instance)"
   ]
  },
  {
   "cell_type": "code",
   "execution_count": null,
   "metadata": {
    "collapsed": true
   },
   "outputs": [],
   "source": [
    "jaccard_indices = {}"
   ]
  },
  {
   "cell_type": "markdown",
   "metadata": {
    "deletable": true,
    "editable": true
   },
   "source": [
    "# Compare training data with predictions"
   ]
  },
  {
   "cell_type": "code",
   "execution_count": null,
   "metadata": {
    "collapsed": false,
    "deletable": true,
    "editable": true
   },
   "outputs": [],
   "source": [
    "for img_id in ids_with_instance:\n",
    "    \n",
    "    img_data = data_utils.ImageData(img_id)\n",
    "    img_data.load_image()\n",
    "    img_data.create_train_feature()\n",
    "    img_data.create_label()\n",
    "    \n",
    "    mask_stack, shape_stack = pred_for_each_quarter(sess, img_in, pred, img_data, H)\n",
    "    mask = stitch_mask(mask_stack, img_data.image_size, shape_stack, H)\n",
    "    polygons = data_utils.mask_to_polygons(mask=mask, img_id=img_id, test=False, epsilon=1)\n",
    "    true_polygons = data_utils.get_polygon_list(\n",
    "        image_id=data_utils.train_IDs_dict[img_id], class_type=class_type + 1)\n",
    "    \n",
    "    jaccard_indices[data_utils.train_IDs_dict[img_id]] = \\\n",
    "    polygons.intersection(true_polygons).area / polygons.union(true_polygons).area\n",
    "    \n",
    "    \n",
    "    alpha = 0.4\n",
    "    fig, axs = plt.subplots(2, 2, figsize = [20, 20])\n",
    "    print 'Processing ImageId: {} (No. {}); Class ({}): {}'.format(\n",
    "        img_id, data_utils.train_IDs_dict[img_id], class_type, data_utils.CLASSES[class_type + 1])\n",
    "    \n",
    "    fig.suptitle('Image (No. {}) Id {}; Class ({}): {}'.format(\n",
    "        img_id, data_utils.train_IDs_dict[img_id], class_type, data_utils.CLASSES[class_type + 1]), \n",
    "                 fontsize = 16)\n",
    "    \n",
    "    for i in range(2):\n",
    "        for j in range(2):\n",
    "            axs[0, 0].imshow(img_data.label[:, :, class_type], cmap = plt.cm.gray)\n",
    "            axs[0, 0].set_title('True label for image: {}, class: {}'.format(\n",
    "                data_utils.train_IDs_dict[img_id], data_utils.CLASSES[class_type + 1]))\n",
    "            axs[0, 1].imshow(data_utils.scale_percentile(img_data.three_band_image))\n",
    "            axs[0, 1].imshow(img_data.label[:, :, class_type], cmap = plt.cm.gray, alpha = alpha)\n",
    "            axs[0, 1].set_title('3-band image with true label for image: {}, class: {}'.format(\n",
    "                data_utils.train_IDs_dict[img_id], data_utils.CLASSES[class_type + 1]))\n",
    "            axs[1, 0].imshow(mask, cmap = plt.cm.gray)\n",
    "            axs[1, 0].set_title('Predicted label for image: {}, class: {}'.format(\n",
    "                data_utils.train_IDs_dict[img_id], data_utils.CLASSES[class_type + 1]))\n",
    "            axs[1, 1].imshow(data_utils.scale_percentile(img_data.three_band_image))\n",
    "            axs[1, 1].imshow(mask, cmap = plt.cm.gray, alpha = alpha)\n",
    "            axs[1, 1].set_title('3-band image with predicted label for image: {}, class: {}'.format(\n",
    "                data_utils.train_IDs_dict[img_id], data_utils.CLASSES[class_type + 1]))\n",
    "    fig.tight_layout()\n",
    "    fig.subplots_adjust(top=0.95)\n",
    "\n",
    "print 'Jaccard indices {}'.format(jaccard_indices)\n",
    "print 'Mean Jaccard index {}'.format(np.mean(jaccard_indices.values()))"
   ]
  },
  {
   "cell_type": "code",
   "execution_count": null,
   "metadata": {
    "collapsed": true
   },
   "outputs": [],
   "source": [
    "ids_w_o_instance = sorted(list(set(range(25)) - set(ids_with_instance)))\n",
    "print 'IDs of training data w/o instance of class {} ({}): {}'.format(\n",
    "    class_type, data_utils.CLASSES[class_type + 1], ids_w_o_instance)"
   ]
  },
  {
   "cell_type": "code",
   "execution_count": null,
   "metadata": {
    "collapsed": true
   },
   "outputs": [],
   "source": [
    "for img_id in ids_w_o_instance:\n",
    "    \n",
    "    print 'Processing ImageId (No. {}): {}; Class ({}): {}'.format(\n",
    "        img_id, data_utils.train_IDs_dict[img_id], class_type, data_utils.CLASSES[class_type + 1])\n",
    "    \n",
    "    img_data = data_utils.ImageData(img_id)\n",
    "    img_data.load_image()\n",
    "    img_data.create_train_feature()\n",
    "    \n",
    "    mask_stack, shape_stack = pred_for_each_quarter(sess, img_in, pred, img_data, H)\n",
    "    mask = stitch_mask(mask_stack, img_data.image_size, shape_stack, H)\n",
    "    polygons = data_utils.mask_to_polygons(mask=mask, img_id=img_id, test=False, epsilon=1)\n",
    "    true_polygons = data_utils.get_polygon_list(\n",
    "        image_id=data_utils.train_IDs_dict[img_id], class_type=class_type + 1)\n",
    "    \n",
    "    jaccard_indices[data_utils.train_IDs_dict[img_id]] = \\\n",
    "    polygons.intersection(true_polygons).area / polygons.union(true_polygons).area \\\n",
    "    if polygons.union(true_polygons).area else 1.\n",
    "    \n",
    "print 'Jaccard indices {}'.format(jaccard_indices)\n",
    "print 'Mean Jaccard index {}'.format(np.mean(jaccard_indices.values()))"
   ]
  },
  {
   "cell_type": "markdown",
   "metadata": {
    "deletable": true,
    "editable": true
   },
   "source": [
    "# Predictions on the test data"
   ]
  },
  {
   "cell_type": "code",
   "execution_count": null,
   "metadata": {
    "collapsed": false,
    "deletable": true,
    "editable": true
   },
   "outputs": [],
   "source": [
    "for img_id in range(30, 35):\n",
    "    \n",
    "    img_data = data_utils.ImageData(img_id, phase='test')\n",
    "    img_data.load_image()\n",
    "    img_data.create_train_feature()\n",
    "    \n",
    "    mask_stack, shape_stack = pred_for_each_quarter(sess, img_in, pred, img_data, H)\n",
    "    mask = stitch_mask(mask_stack, img_data.image_size, shape_stack, H)\n",
    "    \n",
    "    alpha = 0.4\n",
    "    fig, axs = plt.subplots(1, 2, figsize = [20, 10])\n",
    "    print 'Processing ImageId: {} (No. {}); Class ({}): {}'.format(\n",
    "        img_id, data_utils.test_IDs_dict[img_id], class_type, data_utils.CLASSES[class_type + 1])\n",
    "    \n",
    "    fig.suptitle('Image (No. {}) Id {}; Class ({}): {}'.format(\n",
    "        img_id, data_utils.test_IDs_dict[img_id], class_type, data_utils.CLASSES[class_type + 1]), \n",
    "                 fontsize = 16)\n",
    "    \n",
    "    for i in range(2):\n",
    "        for j in range(2):\n",
    "\n",
    "            axs[0].imshow(mask, cmap = plt.cm.gray)\n",
    "            axs[0].set_title('Predicted label for image: {}, class: {}'.format(\n",
    "                data_utils.test_IDs_dict[img_id], data_utils.CLASSES[class_type + 1]))\n",
    "            axs[1].imshow(data_utils.scale_percentile(img_data.three_band_image))\n",
    "            axs[1].imshow(mask, cmap = plt.cm.gray, alpha = alpha)\n",
    "            axs[1].set_title('3-band image with predicted label for image: {}, class: {}'.format(\n",
    "                data_utils.test_IDs_dict[img_id], data_utils.CLASSES[class_type + 1]))\n",
    "    fig.tight_layout()\n",
    "    fig.subplots_adjust(top=0.95)\n"
   ]
  },
  {
   "cell_type": "code",
   "execution_count": null,
   "metadata": {
    "collapsed": true,
    "deletable": true,
    "editable": true
   },
   "outputs": [],
   "source": []
  }
 ],
 "metadata": {
  "kernelspec": {
   "display_name": "Python 2",
   "language": "python",
   "name": "python2"
  },
  "language_info": {
   "codemirror_mode": {
    "name": "ipython",
    "version": 2
   },
   "file_extension": ".py",
   "mimetype": "text/x-python",
   "name": "python",
   "nbconvert_exporter": "python",
   "pygments_lexer": "ipython2",
   "version": "2.7.13"
  }
 },
 "nbformat": 4,
 "nbformat_minor": 2
}
